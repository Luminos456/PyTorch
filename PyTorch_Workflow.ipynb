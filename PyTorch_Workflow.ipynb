{
 "cells": [
  {
   "cell_type": "code",
   "execution_count": 2,
   "id": "30c7bd7f",
   "metadata": {},
   "outputs": [
    {
     "data": {
      "text/plain": [
       "{1: 'date prepare and load',\n",
       " 2: 'build a model',\n",
       " 3: 'fitting the model to data (training)',\n",
       " 4: 'making predictions and evaluating a model (inference)',\n",
       " 5: 'saving and loading a model',\n",
       " 6: 'putting it all together'}"
      ]
     },
     "execution_count": 2,
     "metadata": {},
     "output_type": "execute_result"
    }
   ],
   "source": [
    "what_were_covering = {1: \"date prepare and load\",\n",
    "                     2: \"build a model\", \n",
    "                     3: \"fitting the model to data (training)\",\n",
    "                     4: \"making predictions and evaluating a model (inference)\",\n",
    "                     5: \"saving and loading a model\",\n",
    "                     6: \"putting it all together\"}\n",
    "what_were_covering"
   ]
  },
  {
   "cell_type": "code",
   "execution_count": 3,
   "id": "85a5577c",
   "metadata": {},
   "outputs": [],
   "source": [
    "import torch\n",
    "from torch import nn #nn contains all of PyTorch's building blocks for neural networks\n",
    "import matplotlib.pyplot as plt"
   ]
  },
  {
   "cell_type": "markdown",
   "id": "517c4c67",
   "metadata": {},
   "source": [
    "# Data Preparing"
   ]
  },
  {
   "cell_type": "code",
   "execution_count": 4,
   "id": "6444d207",
   "metadata": {},
   "outputs": [
    {
     "data": {
      "text/plain": [
       "(tensor([[0.0000],\n",
       "         [0.0200],\n",
       "         [0.0400],\n",
       "         [0.0600],\n",
       "         [0.0800],\n",
       "         [0.1000],\n",
       "         [0.1200],\n",
       "         [0.1400],\n",
       "         [0.1600],\n",
       "         [0.1800]]),\n",
       " tensor([[0.3000],\n",
       "         [0.3140],\n",
       "         [0.3280],\n",
       "         [0.3420],\n",
       "         [0.3560],\n",
       "         [0.3700],\n",
       "         [0.3840],\n",
       "         [0.3980],\n",
       "         [0.4120],\n",
       "         [0.4260]]),\n",
       " 50,\n",
       " 50)"
      ]
     },
     "execution_count": 4,
     "metadata": {},
     "output_type": "execute_result"
    }
   ],
   "source": [
    "# Create *known* parameters\n",
    "weight = 0.7\n",
    "bias = 0.3\n",
    "#Create\n",
    "start = 0 \n",
    "end = 1\n",
    "step = 0.02\n",
    "X = torch.arange(start,end,step).unsqueeze(dim=1)\n",
    "y = weight * X + bias\n",
    "\n",
    "X[:10], y[:10], len(X), len(y)"
   ]
  },
  {
   "cell_type": "code",
   "execution_count": 5,
   "id": "ac08c37d",
   "metadata": {},
   "outputs": [
    {
     "data": {
      "text/plain": [
       "(40, 40, 10, 10)"
      ]
     },
     "execution_count": 5,
     "metadata": {},
     "output_type": "execute_result"
    }
   ],
   "source": [
    "# Split data into training and test sets\n",
    "train_split = int(0.8 * len(X))\n",
    "X_train, y_train = X[:train_split], y[:train_split]\n",
    "X_test, y_test = X[train_split:], y[train_split:]\n",
    "len(X_train), len(y_train), len(X_test), len(y_test)"
   ]
  },
  {
   "cell_type": "code",
   "execution_count": 6,
   "id": "73cad20b",
   "metadata": {},
   "outputs": [],
   "source": [
    "def plot_predictions(train_data = X_train, train_labels = y_train, test_data = X_test, test_labels=y_test, predictions = None):\n",
    "    plt.figure(figsize=(10,10))\n",
    "    plt.scatter(train_data,train_labels, c=\"b\", s=4, label=\"Training Data\")\n",
    "    plt.scatter(test_data,test_labels, c=\"g\",s=4,label=\"Train Data\")\n",
    "    if predictions is not None:\n",
    "        plt.scatter(test_data, predictions,c=\"r\",s=4,label=\"Predictions\")\n",
    "    plt.legend()\n",
    "    plt.show()"
   ]
  },
  {
   "cell_type": "code",
   "execution_count": 7,
   "id": "d9af2f22",
   "metadata": {},
   "outputs": [
    {
     "data": {
      "image/png": "[encoded data removed]",
      "text/plain": [
       "<Figure size 720x720 with 1 Axes>"
      ]
     },
     "metadata": {
      "needs_background": "light"
     },
     "output_type": "display_data"
    }
   ],
   "source": [
    "plot_predictions()"
   ]
  },
  {
   "cell_type": "code",
   "execution_count": 58,
   "id": "eeefe341",
   "metadata": {},
   "outputs": [],
   "source": [
    "#Create linear regression model class\n",
    "class LinearRegressionModel(nn.Module):\n",
    "    def __init__(self):\n",
    "        super().__init__()\n",
    "        \n",
    "        self.weights = nn.Parameter(torch.rand(1,requires_grad = True, dtype= torch.float))\n",
    "        \n",
    "        self.bias = nn.Parameter(torch.rand(1, requires_grad = True, dtype = torch.float))\n",
    "        #Forward method to define the computation in the model\n",
    "    def forward(self,x:torch.Tensor) -> torch.Tensor:\n",
    "        return self.weights * x + self.bias\n",
    "        \n",
    "# torch.nn - contains all of the buildings for computational graphs \n",
    "# torch.nn.Parameter - what parameters should our model try and learn, often a PyTorch layer from torch.nn will set these for us\n",
    "# torch.nn.Module - The base class for all neural network modules, if you subclass it, you should overwrite forward()\n",
    "# torch.optim - this where the optimizers in PyTorch live, they will help with gradient descent\n",
    "# def forward() - All nn.Module subclasses require you to overwrite forward(), this module defines what happens in the forward computation.\n"
   ]
  },
  {
   "cell_type": "code",
   "execution_count": 59,
   "id": "42aa0230",
   "metadata": {},
   "outputs": [
    {
     "data": {
      "text/plain": [
       "[Parameter containing:\n",
       " tensor([0.8823], requires_grad=True),\n",
       " Parameter containing:\n",
       " tensor([0.9150], requires_grad=True)]"
      ]
     },
     "execution_count": 59,
     "metadata": {},
     "output_type": "execute_result"
    }
   ],
   "source": [
    "torch.manual_seed(42)\n",
    "\n",
    "model_0 = LinearRegressionModel()\n",
    "\n",
    "\n",
    "list(model_0.parameters())"
   ]
  },
  {
   "cell_type": "code",
   "execution_count": 38,
   "id": "ecd1dd99",
   "metadata": {},
   "outputs": [
    {
     "data": {
      "text/plain": [
       "tensor([[1.6208],\n",
       "        [1.6385],\n",
       "        [1.6561],\n",
       "        [1.6738],\n",
       "        [1.6914],\n",
       "        [1.7090],\n",
       "        [1.7267],\n",
       "        [1.7443],\n",
       "        [1.7620],\n",
       "        [1.7796]])"
      ]
     },
     "execution_count": 38,
     "metadata": {},
     "output_type": "execute_result"
    }
   ],
   "source": [
    "#Making prediction using \"torch.inference_mode()\"\n",
    "with torch.inference_mode():\n",
    "    y_preds = model_0(X_test)\n",
    "y_preds\n"
   ]
  },
  {
   "cell_type": "code",
   "execution_count": 39,
   "id": "1b7e57ea",
   "metadata": {},
   "outputs": [
    {
     "data": {
      "text/plain": [
       "tensor([[0.8600],\n",
       "        [0.8740],\n",
       "        [0.8880],\n",
       "        [0.9020],\n",
       "        [0.9160],\n",
       "        [0.9300],\n",
       "        [0.9440],\n",
       "        [0.9580],\n",
       "        [0.9720],\n",
       "        [0.9860]])"
      ]
     },
     "execution_count": 39,
     "metadata": {},
     "output_type": "execute_result"
    }
   ],
   "source": [
    "y_test"
   ]
  },
  {
   "cell_type": "code",
   "execution_count": 40,
   "id": "06322e55",
   "metadata": {},
   "outputs": [
    {
     "data": {
      "image/png": "[encoded data removed]",
      "text/plain": [
       "<Figure size 720x720 with 1 Axes>"
      ]
     },
     "metadata": {
      "needs_background": "light"
     },
     "output_type": "display_data"
    }
   ],
   "source": [
    "plot_predictions(predictions=y_preds)"
   ]
  },
  {
   "cell_type": "markdown",
   "id": "30b287c9",
   "metadata": {},
   "source": [
    "# Train Model"
   ]
  },
  {
   "cell_type": "code",
   "execution_count": 60,
   "id": "06462db0",
   "metadata": {},
   "outputs": [],
   "source": [
    "# Setup a loss function\n",
    "\n",
    "loss_fn = nn.L1Loss()\n",
    "# Setup an optimizer \n",
    "optimizer = torch.optim.SGD(params=model_0.parameters(), lr=0.01) #SGD is Gradient Descent, lr is learning rate"
   ]
  },
  {
   "cell_type": "code",
   "execution_count": 61,
   "id": "43ee474c",
   "metadata": {},
   "outputs": [
    {
     "name": "stdout",
     "output_type": "stream",
     "text": [
      "Epoch: 0, Loss: 0.6860889196395874 ,Test loss: 0.7637526988983154\n",
      "Epoch: 10, Loss: 0.5708791017532349 ,Test loss: 0.6290428042411804\n",
      "Epoch: 20, Loss: 0.45566922426223755 ,Test loss: 0.4943329691886902\n",
      "Epoch: 30, Loss: 0.34045934677124023 ,Test loss: 0.35962313413619995\n",
      "Epoch: 40, Loss: 0.2252494841814041 ,Test loss: 0.2249133139848709\n",
      "Epoch: 50, Loss: 0.1100396141409874 ,Test loss: 0.09020347893238068\n",
      "Epoch: 60, Loss: 0.009724985808134079 ,Test loss: 0.020998019725084305\n",
      "Epoch: 70, Loss: 0.006216754671186209 ,Test loss: 0.014099234715104103\n",
      "Epoch: 80, Loss: 0.002788322512060404 ,Test loss: 0.005826681852340698\n",
      "Epoch: 90, Loss: 0.007095950655639172 ,Test loss: 0.00754010071977973\n"
     ]
    }
   ],
   "source": [
    "#Building a training loop and testing loop\n",
    "torch.manual_seed(42)\n",
    "\n",
    "epochs = 100 # An epoch is one loop through the data\n",
    "\n",
    "# 0. loop through the data\n",
    "for epoch in range(epochs):\n",
    "    #Set the model to training mode\n",
    "    model_0.train() \n",
    "    \n",
    "    # 1. Forward pass\n",
    "    y_pred = model_0(X_train)\n",
    "    \n",
    "    # 2. Calculate loss\n",
    "    loss = loss_fn(y_pred,y_train)\n",
    "    \n",
    "    # 3. Optimizer zero grad\n",
    "    optimizer.zero_grad()\n",
    "    \n",
    "    # 4. Perform backpropagation on the loss with respect to the paramters of the model\n",
    "    loss.backward()\n",
    "    \n",
    "    # 5. Step the optimizer(Perform gradient descent) \n",
    "    optimizer.step()\n",
    "    \n",
    "    ### Testing\n",
    "    model_0.eval() # Turns off gradient tracking\n",
    "    with torch.inference_mode():\n",
    "        \n",
    "        test_pred = model_0(X_test)\n",
    "        \n",
    "        #Calculate loss\n",
    "        test_loss = loss_fn(test_pred,y_test)\n",
    "    if epoch % 10 == 0:\n",
    "        print(f\"Epoch: {epoch}, Loss: {loss} ,Test loss: {test_loss}\")"
   ]
  },
  {
   "cell_type": "code",
   "execution_count": 62,
   "id": "77d871e7",
   "metadata": {},
   "outputs": [
    {
     "data": {
      "text/plain": [
       "OrderedDict([('weights', tensor([0.6977])), ('bias', tensor([0.3080]))])"
      ]
     },
     "execution_count": 62,
     "metadata": {},
     "output_type": "execute_result"
    }
   ],
   "source": [
    "model_0.state_dict()"
   ]
  },
  {
   "cell_type": "code",
   "execution_count": 63,
   "id": "98922c48",
   "metadata": {},
   "outputs": [
    {
     "data": {
      "text/plain": [
       "(0.7, 0.3)"
      ]
     },
     "execution_count": 63,
     "metadata": {},
     "output_type": "execute_result"
    }
   ],
   "source": [
    "weight, bias"
   ]
  },
  {
   "cell_type": "code",
   "execution_count": 64,
   "id": "60d2418e",
   "metadata": {},
   "outputs": [
    {
     "data": {
      "image/png": "[encoded data removed]",
      "text/plain": [
       "<Figure size 720x720 with 1 Axes>"
      ]
     },
     "metadata": {
      "needs_background": "light"
     },
     "output_type": "display_data"
    }
   ],
   "source": [
    "with torch.inference_mode():\n",
    "    y_preds = model_0(X_test)\n",
    "plot_predictions(predictions=y_preds)"
   ]
  },
  {
   "cell_type": "markdown",
   "id": "14fb267d",
   "metadata": {},
   "source": [
    "# Saving a Model in PyTorch"
   ]
  },
  {
   "cell_type": "code",
   "execution_count": 65,
   "id": "88b5c416",
   "metadata": {},
   "outputs": [
    {
     "data": {
      "text/plain": [
       "WindowsPath('models/PyTorch_Workflow_LinearRegression.pth')"
      ]
     },
     "execution_count": 65,
     "metadata": {},
     "output_type": "execute_result"
    }
   ],
   "source": [
    "from pathlib import Path\n",
    "\n",
    "# 1.Create models directory\n",
    "MODEL_PATH = Path(\"models\")\n",
    "MODEL_PATH.mkdir(parents=True, exist_ok=True)\n",
    "\n",
    "# 2.Create model save path\n",
    "MODEL_NAME = \"PyTorch_Workflow_LinearRegression.pth\"\n",
    "MODEL_SAVE_PATH = MODEL_PATH / MODEL_NAME\n",
    "\n",
    "MODEL_SAVE_PATH"
   ]
  },
  {
   "cell_type": "code",
   "execution_count": 66,
   "id": "75c88896",
   "metadata": {},
   "outputs": [],
   "source": [
    "# 3. Save the model state dict\n",
    "torch.save(obj=model_0.state_dict(),f=MODEL_SAVE_PATH)"
   ]
  },
  {
   "cell_type": "markdown",
   "id": "c65d0fbc",
   "metadata": {},
   "source": [
    "# Loading a PyTorch Model"
   ]
  },
  {
   "cell_type": "code",
   "execution_count": 68,
   "id": "1575ae80",
   "metadata": {},
   "outputs": [
    {
     "data": {
      "text/plain": [
       "OrderedDict([('weights', tensor([0.6977])), ('bias', tensor([0.3080]))])"
      ]
     },
     "execution_count": 68,
     "metadata": {},
     "output_type": "execute_result"
    }
   ],
   "source": [
    "#To load in a saved state_dict we have to instantiate a new instance of our model class\n",
    "loaded_model_0 = LinearRegressionModel()\n",
    "\n",
    "#Load the saved state_dict of model_0 (this will update new instance with updated parameters)\n",
    "loaded_model_0.load_state_dict(torch.load(f=MODEL_SAVE_PATH))\n",
    "\n",
    "loaded_model_0.state_dict()"
   ]
  },
  {
   "cell_type": "code",
   "execution_count": null,
   "id": "dcce1336",
   "metadata": {},
   "outputs": [],
   "source": []
  }
 ],
 "metadata": {
  "kernelspec": {
   "display_name": "Python 3 (ipykernel)",
   "language": "python",
   "name": "python3"
  },
  "language_info": {
   "codemirror_mode": {
    "name": "ipython",
    "version": 3
   },
   "file_extension": ".py",
   "mimetype": "text/x-python",
   "name": "python",
   "nbconvert_exporter": "python",
   "pygments_lexer": "ipython3",
   "version": "3.8.13"
  }
 },
 "nbformat": 4,
 "nbformat_minor": 5
}
